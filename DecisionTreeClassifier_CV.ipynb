{
 "cells": [
  {
   "cell_type": "markdown",
   "metadata": {},
   "source": [
    "### Importing Libraries"
   ]
  },
  {
   "cell_type": "code",
   "execution_count": 22,
   "metadata": {},
   "outputs": [],
   "source": [
    "import pandas as pd\n",
    "import numpy as np\n",
    "import os\n",
    "from sklearn.model_selection import train_test_split, cross_val_score, GridSearchCV\n",
    "from sklearn.tree import DecisionTreeClassifier, plot_tree\n",
    "from sklearn import metrics\n",
    "from sklearn.metrics import classification_report, roc_auc_score, roc_curve\n",
    "import matplotlib.pyplot as plt\n",
    "import warnings\n",
    "warnings.filterwarnings('ignore')"
   ]
  },
  {
   "cell_type": "markdown",
   "metadata": {},
   "source": [
    "&nbsp;"
   ]
  },
  {
   "cell_type": "markdown",
   "metadata": {},
   "source": [
    "### Loading Dataset"
   ]
  },
  {
   "cell_type": "code",
   "execution_count": 2,
   "metadata": {},
   "outputs": [
    {
     "data": {
      "text/html": [
       "<div>\n",
       "<style scoped>\n",
       "    .dataframe tbody tr th:only-of-type {\n",
       "        vertical-align: middle;\n",
       "    }\n",
       "\n",
       "    .dataframe tbody tr th {\n",
       "        vertical-align: top;\n",
       "    }\n",
       "\n",
       "    .dataframe thead th {\n",
       "        text-align: right;\n",
       "    }\n",
       "</style>\n",
       "<table border=\"1\" class=\"dataframe\">\n",
       "  <thead>\n",
       "    <tr style=\"text-align: right;\">\n",
       "      <th></th>\n",
       "      <th>outlook</th>\n",
       "      <th>temp</th>\n",
       "      <th>humidity</th>\n",
       "      <th>windy</th>\n",
       "      <th>play</th>\n",
       "    </tr>\n",
       "  </thead>\n",
       "  <tbody>\n",
       "    <tr>\n",
       "      <td>0</td>\n",
       "      <td>sunny</td>\n",
       "      <td>hot</td>\n",
       "      <td>high</td>\n",
       "      <td>False</td>\n",
       "      <td>no</td>\n",
       "    </tr>\n",
       "    <tr>\n",
       "      <td>1</td>\n",
       "      <td>sunny</td>\n",
       "      <td>hot</td>\n",
       "      <td>high</td>\n",
       "      <td>True</td>\n",
       "      <td>no</td>\n",
       "    </tr>\n",
       "    <tr>\n",
       "      <td>2</td>\n",
       "      <td>overcast</td>\n",
       "      <td>hot</td>\n",
       "      <td>high</td>\n",
       "      <td>False</td>\n",
       "      <td>yes</td>\n",
       "    </tr>\n",
       "    <tr>\n",
       "      <td>3</td>\n",
       "      <td>rainy</td>\n",
       "      <td>mild</td>\n",
       "      <td>high</td>\n",
       "      <td>False</td>\n",
       "      <td>yes</td>\n",
       "    </tr>\n",
       "    <tr>\n",
       "      <td>4</td>\n",
       "      <td>rainy</td>\n",
       "      <td>cool</td>\n",
       "      <td>normal</td>\n",
       "      <td>False</td>\n",
       "      <td>yes</td>\n",
       "    </tr>\n",
       "  </tbody>\n",
       "</table>\n",
       "</div>"
      ],
      "text/plain": [
       "    outlook  temp humidity  windy play\n",
       "0     sunny   hot     high  False   no\n",
       "1     sunny   hot     high   True   no\n",
       "2  overcast   hot     high  False  yes\n",
       "3     rainy  mild     high  False  yes\n",
       "4     rainy  cool   normal  False  yes"
      ]
     },
     "execution_count": 2,
     "metadata": {},
     "output_type": "execute_result"
    }
   ],
   "source": [
    "filepath = os.getcwd() + \"/tennis.csv\"\n",
    "df = pd.read_csv(filepath)\n",
    "df.head()"
   ]
  },
  {
   "cell_type": "markdown",
   "metadata": {},
   "source": [
    "&nbsp;"
   ]
  },
  {
   "cell_type": "markdown",
   "metadata": {},
   "source": [
    "### Descriptive Analysis"
   ]
  },
  {
   "cell_type": "code",
   "execution_count": 3,
   "metadata": {},
   "outputs": [
    {
     "name": "stdout",
     "output_type": "stream",
     "text": [
      "<class 'pandas.core.frame.DataFrame'>\n",
      "RangeIndex: 14 entries, 0 to 13\n",
      "Data columns (total 5 columns):\n",
      "outlook     14 non-null object\n",
      "temp        14 non-null object\n",
      "humidity    14 non-null object\n",
      "windy       14 non-null bool\n",
      "play        14 non-null object\n",
      "dtypes: bool(1), object(4)\n",
      "memory usage: 590.0+ bytes\n",
      "None\n",
      "\n",
      "Number of missing values in given data\n",
      "outlook     0\n",
      "temp        0\n",
      "humidity    0\n",
      "windy       0\n",
      "play        0\n",
      "dtype: int64\n"
     ]
    }
   ],
   "source": [
    "print(df.info())\n",
    "print('\\nNumber of missing values in given data')\n",
    "print(df.isnull().sum())"
   ]
  },
  {
   "cell_type": "markdown",
   "metadata": {},
   "source": [
    "&nbsp;"
   ]
  },
  {
   "cell_type": "markdown",
   "metadata": {},
   "source": [
    "### Dummy Variables Creation<span style='background:yellow'>(Instead of direct categorical variable, sklearn library works with encoded category variables to find Entropy and I.G for best splits)</span>"
   ]
  },
  {
   "cell_type": "code",
   "execution_count": 4,
   "metadata": {},
   "outputs": [
    {
     "data": {
      "text/html": [
       "<div>\n",
       "<style scoped>\n",
       "    .dataframe tbody tr th:only-of-type {\n",
       "        vertical-align: middle;\n",
       "    }\n",
       "\n",
       "    .dataframe tbody tr th {\n",
       "        vertical-align: top;\n",
       "    }\n",
       "\n",
       "    .dataframe thead th {\n",
       "        text-align: right;\n",
       "    }\n",
       "</style>\n",
       "<table border=\"1\" class=\"dataframe\">\n",
       "  <thead>\n",
       "    <tr style=\"text-align: right;\">\n",
       "      <th></th>\n",
       "      <th>play</th>\n",
       "      <th>outlook_overcast</th>\n",
       "      <th>outlook_rainy</th>\n",
       "      <th>outlook_sunny</th>\n",
       "      <th>temp_cool</th>\n",
       "      <th>temp_hot</th>\n",
       "      <th>temp_mild</th>\n",
       "      <th>humidity_high</th>\n",
       "      <th>humidity_normal</th>\n",
       "      <th>windy_False</th>\n",
       "      <th>windy_True</th>\n",
       "    </tr>\n",
       "  </thead>\n",
       "  <tbody>\n",
       "    <tr>\n",
       "      <td>0</td>\n",
       "      <td>no</td>\n",
       "      <td>0</td>\n",
       "      <td>0</td>\n",
       "      <td>1</td>\n",
       "      <td>0</td>\n",
       "      <td>1</td>\n",
       "      <td>0</td>\n",
       "      <td>1</td>\n",
       "      <td>0</td>\n",
       "      <td>1</td>\n",
       "      <td>0</td>\n",
       "    </tr>\n",
       "    <tr>\n",
       "      <td>1</td>\n",
       "      <td>no</td>\n",
       "      <td>0</td>\n",
       "      <td>0</td>\n",
       "      <td>1</td>\n",
       "      <td>0</td>\n",
       "      <td>1</td>\n",
       "      <td>0</td>\n",
       "      <td>1</td>\n",
       "      <td>0</td>\n",
       "      <td>0</td>\n",
       "      <td>1</td>\n",
       "    </tr>\n",
       "    <tr>\n",
       "      <td>2</td>\n",
       "      <td>yes</td>\n",
       "      <td>1</td>\n",
       "      <td>0</td>\n",
       "      <td>0</td>\n",
       "      <td>0</td>\n",
       "      <td>1</td>\n",
       "      <td>0</td>\n",
       "      <td>1</td>\n",
       "      <td>0</td>\n",
       "      <td>1</td>\n",
       "      <td>0</td>\n",
       "    </tr>\n",
       "    <tr>\n",
       "      <td>3</td>\n",
       "      <td>yes</td>\n",
       "      <td>0</td>\n",
       "      <td>1</td>\n",
       "      <td>0</td>\n",
       "      <td>0</td>\n",
       "      <td>0</td>\n",
       "      <td>1</td>\n",
       "      <td>1</td>\n",
       "      <td>0</td>\n",
       "      <td>1</td>\n",
       "      <td>0</td>\n",
       "    </tr>\n",
       "    <tr>\n",
       "      <td>4</td>\n",
       "      <td>yes</td>\n",
       "      <td>0</td>\n",
       "      <td>1</td>\n",
       "      <td>0</td>\n",
       "      <td>1</td>\n",
       "      <td>0</td>\n",
       "      <td>0</td>\n",
       "      <td>0</td>\n",
       "      <td>1</td>\n",
       "      <td>1</td>\n",
       "      <td>0</td>\n",
       "    </tr>\n",
       "  </tbody>\n",
       "</table>\n",
       "</div>"
      ],
      "text/plain": [
       "  play  outlook_overcast  outlook_rainy  outlook_sunny  temp_cool  temp_hot  \\\n",
       "0   no                 0              0              1          0         1   \n",
       "1   no                 0              0              1          0         1   \n",
       "2  yes                 1              0              0          0         1   \n",
       "3  yes                 0              1              0          0         0   \n",
       "4  yes                 0              1              0          1         0   \n",
       "\n",
       "   temp_mild  humidity_high  humidity_normal  windy_False  windy_True  \n",
       "0          0              1                0            1           0  \n",
       "1          0              1                0            0           1  \n",
       "2          0              1                0            1           0  \n",
       "3          1              1                0            1           0  \n",
       "4          0              0                1            1           0  "
      ]
     },
     "execution_count": 4,
     "metadata": {},
     "output_type": "execute_result"
    }
   ],
   "source": [
    "df_dummy = pd.get_dummies(data = df, columns=['outlook','temp','humidity','windy'])\n",
    "df_dummy.head()"
   ]
  },
  {
   "cell_type": "markdown",
   "metadata": {},
   "source": [
    "&nbsp;"
   ]
  },
  {
   "cell_type": "markdown",
   "metadata": {},
   "source": [
    "### Traing & Test split"
   ]
  },
  {
   "cell_type": "code",
   "execution_count": 5,
   "metadata": {},
   "outputs": [],
   "source": [
    "X = df_dummy.drop('play',axis=1)\n",
    "y = df_dummy['play']\n",
    "\n",
    "X_train, X_test, y_train, y_test = train_test_split(X, y, test_size=0.30, random_state=101)"
   ]
  },
  {
   "cell_type": "markdown",
   "metadata": {},
   "source": [
    "&nbsp;"
   ]
  },
  {
   "cell_type": "markdown",
   "metadata": {},
   "source": [
    "### Hyperparameters Optimization"
   ]
  },
  {
   "cell_type": "code",
   "execution_count": 6,
   "metadata": {},
   "outputs": [
    {
     "name": "stdout",
     "output_type": "stream",
     "text": [
      "Best parameters as per kfolds mean accuray : {'criterion': 'entropy', 'max_depth': 3, 'max_features': 3}\n",
      "\n",
      "Mean accuray as per best parameters : 0.7777777777777778\n",
      "\n",
      "GridSearch all parameters :\n",
      "[{'criterion': 'entropy', 'max_depth': 3, 'max_features': 3}, {'criterion': 'entropy', 'max_depth': 3, 'max_features': 4}, {'criterion': 'entropy', 'max_depth': 4, 'max_features': 3}, {'criterion': 'entropy', 'max_depth': 4, 'max_features': 4}, {'criterion': 'entropy', 'max_depth': 5, 'max_features': 3}, {'criterion': 'entropy', 'max_depth': 5, 'max_features': 4}, {'criterion': 'gini', 'max_depth': 3, 'max_features': 3}, {'criterion': 'gini', 'max_depth': 3, 'max_features': 4}, {'criterion': 'gini', 'max_depth': 4, 'max_features': 3}, {'criterion': 'gini', 'max_depth': 4, 'max_features': 4}, {'criterion': 'gini', 'max_depth': 5, 'max_features': 3}, {'criterion': 'gini', 'max_depth': 5, 'max_features': 4}] \n",
      "\n",
      "GridSearch all parameters kfolds mean accuracy:\n",
      "[0.77777778 0.44444444 0.55555556 0.55555556 0.33333333 0.66666667\n",
      " 0.55555556 0.33333333 0.44444444 0.55555556 0.66666667 0.66666667]\n"
     ]
    }
   ],
   "source": [
    "#create a dictionary of all values we want to test\n",
    "param_grid = { 'criterion' : ['entropy','gini'],\n",
    "               'max_depth' : np.arange(3,6),\n",
    "               'max_features' : np.arange(3,5)\n",
    "             }\n",
    "\n",
    "\n",
    "#Decision Tree Model\n",
    "dtree_model = DecisionTreeClassifier()\n",
    "\n",
    "#Use gridsearch to test all possible parameters for best accuracy\n",
    "dtree_gscv = GridSearchCV(dtree_model, param_grid = param_grid, cv = 5)\n",
    "\n",
    "#Fit model to data\n",
    "dtree_gscv.fit(X_train,y_train)\n",
    "\n",
    "#GridSearch Results\n",
    "print('Best parameters as per kfolds mean accuray : {}\\n'.format(dtree_gscv.best_params_))\n",
    "print('Mean accuray as per best parameters : {}\\n'.format(dtree_gscv.best_score_))\n",
    "print('GridSearch all parameters :')\n",
    "print(dtree_gscv.cv_results_['params'],'\\n')\n",
    "print('GridSearch all parameters kfolds mean accuracy:')\n",
    "print(dtree_gscv.cv_results_['mean_test_score'])"
   ]
  },
  {
   "cell_type": "markdown",
   "metadata": {},
   "source": [
    "&nbsp;"
   ]
  },
  {
   "cell_type": "markdown",
   "metadata": {},
   "source": [
    "### Best Model parameters as per Gridsearch_cv "
   ]
  },
  {
   "cell_type": "code",
   "execution_count": 7,
   "metadata": {},
   "outputs": [
    {
     "data": {
      "text/plain": [
       "DecisionTreeClassifier(class_weight=None, criterion='entropy', max_depth=4,\n",
       "                       max_features=3, max_leaf_nodes=None,\n",
       "                       min_impurity_decrease=0.0, min_impurity_split=None,\n",
       "                       min_samples_leaf=1, min_samples_split=2,\n",
       "                       min_weight_fraction_leaf=0.0, presort=False,\n",
       "                       random_state=None, splitter='best')"
      ]
     },
     "execution_count": 7,
     "metadata": {},
     "output_type": "execute_result"
    }
   ],
   "source": [
    "#Decision Tree Model \n",
    "dtree = DecisionTreeClassifier(criterion='entropy', max_depth = 4, max_features = 3 )\n",
    "dtree"
   ]
  },
  {
   "cell_type": "markdown",
   "metadata": {},
   "source": [
    "&nbsp;"
   ]
  },
  {
   "cell_type": "markdown",
   "metadata": {},
   "source": [
    "### Model Fit"
   ]
  },
  {
   "cell_type": "code",
   "execution_count": 8,
   "metadata": {},
   "outputs": [
    {
     "data": {
      "text/plain": [
       "DecisionTreeClassifier(class_weight=None, criterion='entropy', max_depth=4,\n",
       "                       max_features=3, max_leaf_nodes=None,\n",
       "                       min_impurity_decrease=0.0, min_impurity_split=None,\n",
       "                       min_samples_leaf=1, min_samples_split=2,\n",
       "                       min_weight_fraction_leaf=0.0, presort=False,\n",
       "                       random_state=None, splitter='best')"
      ]
     },
     "execution_count": 8,
     "metadata": {},
     "output_type": "execute_result"
    }
   ],
   "source": [
    "dtree.fit(X_train, y_train)"
   ]
  },
  {
   "cell_type": "markdown",
   "metadata": {},
   "source": [
    "&nbsp;"
   ]
  },
  {
   "cell_type": "markdown",
   "metadata": {},
   "source": [
    "### Trained Decision Tree Visualization"
   ]
  },
  {
   "cell_type": "code",
   "execution_count": 9,
   "metadata": {},
   "outputs": [
    {
     "data": {
      "image/png": "[encoded data removed]",
      "text/plain": [
       "<Figure size 720x576 with 1 Axes>"
      ]
     },
     "metadata": {
      "needs_background": "light"
     },
     "output_type": "display_data"
    }
   ],
   "source": [
    "fig = plt.figure(figsize=(10,8))\n",
    "a = plot_tree(dtree, feature_names=X_train.columns, fontsize=12, filled=True, class_names=['Not Play', 'Play'])#Because in our data 1st class label is not play in resp. variable\n",
    "plt.show()"
   ]
  },
  {
   "cell_type": "markdown",
   "metadata": {},
   "source": [
    "&nbsp;"
   ]
  },
  {
   "cell_type": "markdown",
   "metadata": {},
   "source": [
    "#### Key Point :\n",
    "> * Node colour get assigned as per each class label. i.e., orange - not play class, blue - play class. \n",
    "> * Higher the class label counts and then colour would be dominating class label one for node.\n",
    "> * more pure/dominating node with labels more thicker the colour\n",
    "> * Node with same proportion of labels count, then by default colour of the node would be white."
   ]
  },
  {
   "cell_type": "markdown",
   "metadata": {},
   "source": [
    "&nbsp;"
   ]
  },
  {
   "cell_type": "markdown",
   "metadata": {},
   "source": [
    "### Model Performance"
   ]
  },
  {
   "cell_type": "code",
   "execution_count": 50,
   "metadata": {},
   "outputs": [
    {
     "name": "stdout",
     "output_type": "stream",
     "text": [
      "X_train sample counts : 9\n",
      "y_test sample counts : 5\n",
      "\n",
      "Misclassified samples: 2\n",
      "\n",
      "Confusion Matrix:\n",
      "[[1 0]\n",
      " [2 2]] \n",
      "\n",
      "The accuracy (TP+TN)/total : 0.600\n",
      "\n",
      "The sensitivity (TP/TP+FN) | TPR : 0.500\n",
      "\n",
      "The specificity (TN/TN+FP) : 0.333\n",
      "\n",
      "The 1-specificity (FP/TN+FP) | FPR : 0.000\n",
      "\n"
     ]
    }
   ],
   "source": [
    "print(\"X_train sample counts : {}\".format(len(X_train)))\n",
    "print(\"y_test sample counts : {}\\n\".format(len(X_test)))\n",
    "\n",
    "y_pred = dtree.predict(X_test)\n",
    "accuracy = metrics.accuracy_score(y_test, y_pred)\n",
    "count_misclassified = (y_test != y_pred).sum()\n",
    "print('Misclassified samples: {}\\n'.format(count_misclassified))\n",
    "\n",
    "confusion = metrics.confusion_matrix(y_test,y_pred)\n",
    "\n",
    "print('Confusion Matrix:')\n",
    "print(confusion,'\\n')\n",
    "sensitivity = confusion[1][1]/float(confusion[1:].sum())\n",
    "specificity = confusion[0][0]/float(confusion[:,0].sum())\n",
    "specificity_ = confusion[0][1]/float(confusion[:,0].sum()) \n",
    "print(\"The accuracy (TP+TN)/total : {0:.3f}\\n\".format(accuracy))\n",
    "print(\"The sensitivity (TP/TP+FN) | TPR : {0:.3f}\\n\".format(sensitivity))\n",
    "print(\"The specificity (TN/TN+FP) : {0:.3f}\\n\".format(specificity))\n",
    "print(\"The 1-specificity (FP/TN+FP) | FPR : {0:.3f}\\n\".format(specificity_))\n",
    "\n",
    "#Confusion Matrix is calculated as below: compare with below actuals in y_test and y_pred\n",
    "#          Predict\n",
    "#           0   1\n",
    "#           \n",
    "#        0  TN(1)   FP(0)\n",
    "# Actual\n",
    "#        1  FN(2)   TP(2)"
   ]
  },
  {
   "cell_type": "markdown",
   "metadata": {},
   "source": [
    "&nbsp;"
   ]
  },
  {
   "cell_type": "markdown",
   "metadata": {},
   "source": [
    "### Model Probabilities"
   ]
  },
  {
   "cell_type": "code",
   "execution_count": 51,
   "metadata": {},
   "outputs": [
    {
     "name": "stdout",
     "output_type": "stream",
     "text": [
      "Probabilities on y_test : [[0.0, 1.0], [0.0, 1.0], [1.0, 0.0], [1.0, 0.0], [1.0, 0.0]]\n",
      "\n",
      "if pred. value is 'yes' then prob. is [0.0, 1.0], if pred. value is 'no' the prob. is [1.0, 0.0]\n",
      "\n",
      "Actual y_test value : ['yes', 'yes', 'yes', 'no', 'yes']\n",
      "\n",
      "Predictions on y_test : ['yes', 'yes', 'no', 'no', 'no']\n",
      "\n",
      "As AUC_ROC mainly of postive cases, we take postive case probablities : [1. 1. 0. 0. 0.]\n",
      "\n"
     ]
    }
   ],
   "source": [
    "probs = dtree.predict_proba(X_test)\n",
    "print('Probabilities on y_test : {}\\n'.format(probs.tolist()))\n",
    "print('if pred. value is \\'yes\\' then prob. is [0.0, 1.0], if pred. value is \\'no\\' the prob. is [1.0, 0.0]\\n')\n",
    "print('Actual y_test value : {}\\n'.format(y_test.tolist()))\n",
    "print('Predictions on y_test : {}\\n'.format(y_pred.tolist()))\n",
    "probs = probs[:, 1]\n",
    "print('As AUC_ROC mainly of postive cases, we take postive case probablities : {}\\n'.format(probs))"
   ]
  },
  {
   "cell_type": "markdown",
   "metadata": {},
   "source": [
    "&nbsp;"
   ]
  },
  {
   "cell_type": "markdown",
   "metadata": {},
   "source": [
    "### AUC value<span style='background:yellow'>(on y_test and y_pred postive probablities for calculating TPR and FPR)</span>"
   ]
  },
  {
   "cell_type": "code",
   "execution_count": 52,
   "metadata": {},
   "outputs": [
    {
     "name": "stdout",
     "output_type": "stream",
     "text": [
      "AUC: 0.75\n"
     ]
    }
   ],
   "source": [
    "#Its calculating area under the roc curve\n",
    "auc = roc_auc_score(y_test, probs)\n",
    "print('AUC: %.2f' % auc)"
   ]
  },
  {
   "cell_type": "markdown",
   "metadata": {},
   "source": [
    "&nbsp;"
   ]
  },
  {
   "cell_type": "markdown",
   "metadata": {},
   "source": [
    "### Getting TPR,FPR calculated based on postive y_pred probablities and it selects few optimal thresholds for better curve"
   ]
  },
  {
   "cell_type": "code",
   "execution_count": 54,
   "metadata": {},
   "outputs": [
    {
     "name": "stdout",
     "output_type": "stream",
     "text": [
      "['yes', 'yes', 'yes', 'no', 'yes']\n",
      "[1, 1, 1, 0, 1]\n",
      "[1. 1. 0. 0. 0.]\n",
      "[0. 0. 1.] [0.  0.5 1. ]\n",
      "[2. 1. 0.]\n"
     ]
    }
   ],
   "source": [
    "y_test_1 = [1 if i == 'yes' else 0 for i in y_test]\n",
    "print(y_test.tolist())\n",
    "print(y_test_1)\n",
    "print(probs)\n",
    "fpr, tpr, thresholds = roc_curve(y_test_1, probs)\n",
    "print(fpr,tpr)\n",
    "print(thresholds)"
   ]
  },
  {
   "cell_type": "markdown",
   "metadata": {},
   "source": [
    "&nbsp;"
   ]
  },
  {
   "cell_type": "markdown",
   "metadata": {},
   "source": [
    "### Visualizing ROC curve"
   ]
  },
  {
   "cell_type": "code",
   "execution_count": 28,
   "metadata": {},
   "outputs": [
    {
     "data": {
      "image/png": "[encoded data removed]",
      "text/plain": [
       "<Figure size 432x288 with 1 Axes>"
      ]
     },
     "metadata": {
      "needs_background": "light"
     },
     "output_type": "display_data"
    }
   ],
   "source": [
    "def plot_roc_curve(fpr, tpr):\n",
    "    plt.plot(fpr, tpr, color='orange', label='ROC')\n",
    "    plt.plot([0, 1], [0, 1], color='darkblue', linestyle='--')\n",
    "    plt.xlabel('False Positive Rate')\n",
    "    plt.ylabel('True Positive Rate')\n",
    "    plt.title('Receiver Operating Characteristic (ROC) Curve')\n",
    "    plt.legend()\n",
    "    plt.show()\n",
    "    \n",
    "plot_roc_curve(fpr, tpr)"
   ]
  },
  {
   "cell_type": "markdown",
   "metadata": {},
   "source": [
    "### Take Away Points :\n",
    "> * More the orange curve steeve towards TPR and away from random blue line, better the model performance in calculating tpr and fpr.\n",
    "> * Lesser(ex: 0 in our case) the threshold, tpr and fpr value data point is (1,1). Both tpr & fpr is high\n",
    "> * Higher(ex: 2 in our case) the threshold, tpr and fpr value data point is (0,0). Both tpr & fpr is less\n",
    "> * Model i.e., orange showing better that is steeving towards tpr on some threshold value(1) rather than below or on random line i.e., blue"
   ]
  }
 ],
 "metadata": {
  "kernelspec": {
   "display_name": "Python 3",
   "language": "python",
   "name": "python3"
  },
  "language_info": {
   "codemirror_mode": {
    "name": "ipython",
    "version": 3
   },
   "file_extension": ".py",
   "mimetype": "text/x-python",
   "name": "python",
   "nbconvert_exporter": "python",
   "pygments_lexer": "ipython3",
   "version": "3.7.4"
  }
 },
 "nbformat": 4,
 "nbformat_minor": 4
}
